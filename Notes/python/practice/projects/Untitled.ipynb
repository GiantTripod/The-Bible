{
 "cells": [
  {
   "cell_type": "code",
   "execution_count": 42,
   "id": "3103efa6",
   "metadata": {},
   "outputs": [],
   "source": [
    "import pandas as pd\n",
    "\n",
    "data = pd.read_csv(r'/home/chris/Documents/The-Bible/Notes/python/practice/projects/car_data.csv')"
   ]
  },
  {
   "cell_type": "code",
   "execution_count": 43,
   "id": "9c29bcb3",
   "metadata": {
    "scrolled": true
   },
   "outputs": [],
   "source": [
    "df = pd.DataFrame(data)"
   ]
  },
  {
   "cell_type": "code",
   "execution_count": 44,
   "id": "f5601120",
   "metadata": {},
   "outputs": [
    {
     "name": "stdout",
     "output_type": "stream",
     "text": [
      "        Unnamed: 0                                                  Model  \\\n",
      "0                0                                  2022 Acura TLX A-Spec   \n",
      "1                1                                  2023 Acura RDX A-Spec   \n",
      "2                2                                  2023 Acura TLX Type S   \n",
      "3                3                                  2023 Acura TLX Type S   \n",
      "4                4  2019 Acura MDX Sport Hybrid 3.0L w/Technology Package   \n",
      "...            ...                                                    ...   \n",
      "115757       10005             2023 Volkswagen Atlas 3.6L SE w/Technology   \n",
      "115758       10006                           2023 Volkswagen Taos 1.5T SE   \n",
      "115759       10007                                2012 Volkswagen Beetle    \n",
      "115760       10008                             2022 Volkswagen ID.4 Pro S   \n",
      "115761       10009                          2013 Volkswagen Passat 2.5 SE   \n",
      "\n",
      "        Year Status        Mileage    Price             MSRP  \n",
      "0       2022    New  Not available  $49,445     MSRP $49,445  \n",
      "1       2023    New  Not available  $50,895    Not specified  \n",
      "2       2023    New  Not available  $57,745    Not specified  \n",
      "3       2023    New  Not available  $57,545    Not specified  \n",
      "4       2019   Used     32,675 mi.  $40,990  $600 price drop  \n",
      "...      ...    ...            ...      ...              ...  \n",
      "115757  2023    New  Not available  $47,346    Not specified  \n",
      "115758  2023    New  Not available  $30,895    Not specified  \n",
      "115759  2012   Used    100,395 mi.   $9,994  $252 price drop  \n",
      "115760  2022    New  Not available  $52,585    Not specified  \n",
      "115761  2013   Used    125,757 mi.  $10,995    Not specified  \n",
      "\n",
      "[115762 rows x 7 columns]\n"
     ]
    }
   ],
   "source": [
    "print(df)"
   ]
  },
  {
   "cell_type": "code",
   "execution_count": 45,
   "id": "832ac8b0",
   "metadata": {},
   "outputs": [
    {
     "data": {
      "text/plain": [
       "['Unnamed: 0', 'Model', 'Year', 'Status', 'Mileage', 'Price', 'MSRP']"
      ]
     },
     "execution_count": 45,
     "metadata": {},
     "output_type": "execute_result"
    }
   ],
   "source": [
    "list(df)"
   ]
  },
  {
   "cell_type": "code",
   "execution_count": 46,
   "id": "0200fa28",
   "metadata": {
    "scrolled": true
   },
   "outputs": [],
   "source": [
    "df = df.drop('Unnamed: 0', axis=1)"
   ]
  },
  {
   "cell_type": "code",
   "execution_count": 47,
   "id": "133f04ee",
   "metadata": {},
   "outputs": [],
   "source": [
    "df = df.drop('MSRP', axis=1)"
   ]
  },
  {
   "cell_type": "code",
   "execution_count": 62,
   "id": "da82cc9c",
   "metadata": {},
   "outputs": [],
   "source": [
    "pd.set_option('display.max_colwidth', 30)"
   ]
  },
  {
   "cell_type": "code",
   "execution_count": 63,
   "id": "1f8af815",
   "metadata": {},
   "outputs": [
    {
     "name": "stdout",
     "output_type": "stream",
     "text": [
      "                                Model  Year Status        Mileage    Price\n",
      "0               2022 Acura TLX A-Spec  2022    New  Not available  $49,445\n",
      "1               2023 Acura RDX A-Spec  2023    New  Not available  $50,895\n",
      "2               2023 Acura TLX Type S  2023    New  Not available  $57,745\n",
      "3               2023 Acura TLX Type S  2023    New  Not available  $57,545\n",
      "4       2019 Acura MDX Sport Hybri...  2019   Used     32,675 mi.  $40,990\n",
      "...                               ...   ...    ...            ...      ...\n",
      "115757  2023 Volkswagen Atlas 3.6L...  2023    New  Not available  $47,346\n",
      "115758   2023 Volkswagen Taos 1.5T SE  2023    New  Not available  $30,895\n",
      "115759        2012 Volkswagen Beetle   2012   Used    100,395 mi.   $9,994\n",
      "115760     2022 Volkswagen ID.4 Pro S  2022    New  Not available  $52,585\n",
      "115761  2013 Volkswagen Passat 2.5 SE  2013   Used    125,757 mi.  $10,995\n",
      "\n",
      "[115762 rows x 5 columns]\n"
     ]
    }
   ],
   "source": [
    "print(df)"
   ]
  },
  {
   "cell_type": "code",
   "execution_count": null,
   "id": "380c9283",
   "metadata": {},
   "outputs": [],
   "source": []
  }
 ],
 "metadata": {
  "kernelspec": {
   "display_name": "Python 3 (ipykernel)",
   "language": "python",
   "name": "python3"
  },
  "language_info": {
   "codemirror_mode": {
    "name": "ipython",
    "version": 3
   },
   "file_extension": ".py",
   "mimetype": "text/x-python",
   "name": "python",
   "nbconvert_exporter": "python",
   "pygments_lexer": "ipython3",
   "version": "3.10.12"
  }
 },
 "nbformat": 4,
 "nbformat_minor": 5
}
